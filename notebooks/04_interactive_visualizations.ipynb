{
 "cells": [
  {
   "cell_type": "markdown",
   "id": "ea77619c-9713-4d0f-b90e-f5249034e21c",
   "metadata": {},
   "source": [
    "## Import Libraries"
   ]
  },
  {
   "cell_type": "code",
   "execution_count": 2,
   "id": "bb620653-adc4-4948-be70-02e0541b98b5",
   "metadata": {},
   "outputs": [],
   "source": [
    "import pandas as pd\n",
    "import plotly.express as px\n",
    "import plotly.io as pio"
   ]
  },
  {
   "cell_type": "markdown",
   "id": "9b8581ee-cceb-4e42-983d-abeefc482632",
   "metadata": {},
   "source": [
    "## Setting the Default Renderer"
   ]
  },
  {
   "cell_type": "code",
   "execution_count": 3,
   "id": "2f9536e9-656d-4bc7-9517-26d25433a222",
   "metadata": {},
   "outputs": [],
   "source": [
    "pio.renderers.default = 'iframe' "
   ]
  },
  {
   "cell_type": "code",
   "execution_count": 4,
   "id": "b04a9d89-cdf4-48b9-9cd7-6b4d7b02efd0",
   "metadata": {},
   "outputs": [],
   "source": [
    "df = pd.read_csv('../data/processed/DataScientist_cleaned.csv')"
   ]
  },
  {
   "cell_type": "markdown",
   "id": "78217b7e-b3f4-409d-8969-7c194d3f3f19",
   "metadata": {},
   "source": [
    "# Distribution of Salaries"
   ]
  },
  {
   "cell_type": "code",
   "execution_count": 9,
   "id": "0b63fd63-0656-466e-bbda-6f71e57f38f5",
   "metadata": {},
   "outputs": [
    {
     "data": {
      "text/html": [
       "<iframe\n",
       "    scrolling=\"no\"\n",
       "    width=\"100%\"\n",
       "    height=\"545px\"\n",
       "    src=\"iframe_figures/figure_9.html\"\n",
       "    frameborder=\"0\"\n",
       "    allowfullscreen\n",
       "></iframe>\n"
      ]
     },
     "metadata": {},
     "output_type": "display_data"
    }
   ],
   "source": [
    "# Distribution of Salaries, histogram\n",
    "fig = px.histogram(df, x='Salary Estimate', title='Distribution of Salaries')\n",
    "fig.show()"
   ]
  },
  {
   "cell_type": "markdown",
   "id": "2d685829-3e3c-4974-8e18-ab8ae71f147a",
   "metadata": {},
   "source": [
    "# Top 10 Most Frequently Used Words in the Job Description"
   ]
  },
  {
   "cell_type": "code",
   "execution_count": 10,
   "id": "f5f754e3-2683-4388-a316-1a8531798d2a",
   "metadata": {},
   "outputs": [
    {
     "data": {
      "text/html": [
       "<iframe\n",
       "    scrolling=\"no\"\n",
       "    width=\"100%\"\n",
       "    height=\"545px\"\n",
       "    src=\"iframe_figures/figure_10.html\"\n",
       "    frameborder=\"0\"\n",
       "    allowfullscreen\n",
       "></iframe>\n"
      ]
     },
     "metadata": {},
     "output_type": "display_data"
    }
   ],
   "source": [
    "# Top 10 Most Frequently Used Words in the Job Description\n",
    "from collections import Counter\n",
    "import re\n",
    "\n",
    "# Combine all job descriptions into one string\n",
    "all_descriptions = ' '.join(df['Job Description'])\n",
    "\n",
    "# Tokenize and clean the text\n",
    "words = re.findall(r'\\b\\w+\\b', all_descriptions.lower())\n",
    "common_words = Counter(words).most_common(10)\n",
    "\n",
    "# Convert to DataFrame for plotting\n",
    "common_words_df = pd.DataFrame(common_words, columns=['word', 'count'])\n",
    "\n",
    "fig = px.bar(common_words_df, x='word', y='count', title='Top 10 Most Frequently Used Words')\n",
    "fig.show()\n",
    "\n"
   ]
  },
  {
   "cell_type": "markdown",
   "id": "7c5d7805-5185-420e-8456-d0c52ba64863",
   "metadata": {},
   "source": [
    "## Top 10 Most Frequently Used Words in Job Descriptions (Excluding Common Words)"
   ]
  },
  {
   "cell_type": "code",
   "execution_count": 12,
   "id": "b5384940-c59d-4b01-9752-98e65786b4b1",
   "metadata": {},
   "outputs": [
    {
     "data": {
      "text/html": [
       "<iframe\n",
       "    scrolling=\"no\"\n",
       "    width=\"100%\"\n",
       "    height=\"545px\"\n",
       "    src=\"iframe_figures/figure_12.html\"\n",
       "    frameborder=\"0\"\n",
       "    allowfullscreen\n",
       "></iframe>\n"
      ]
     },
     "metadata": {},
     "output_type": "display_data"
    }
   ],
   "source": [
    "# Define the stop words to exclude\n",
    "stop_words = set(['and', 'the', 'to', 'in', 'a', 'with', 'an', 'for', 'of', 'on', 'at', 'by', 'from', 'about', 'as', 'into', 'like', 'through', 'after', 'over', 'between', 'out', 'against', 'during', 'without', 'before', 'under','other','this', 'around','are','be','that','or', 'is','you','we','will','our', 'among'])\n",
    "\n",
    "# Combining all job description words into a single string, separated by space\n",
    "all_descriptions = ' '.join(df['Job Description']).lower()\n",
    "\n",
    "# Remove non-alphabetic characters\n",
    "all_descriptions = re.sub(r'[^a-z\\s]', '', all_descriptions)\n",
    "\n",
    "# Split into individual words\n",
    "words = all_descriptions.split()\n",
    "\n",
    "# Remove stop words\n",
    "words = [word for word in words if word not in stop_words]\n",
    "\n",
    "# Count words\n",
    "word_counts = Counter(words)\n",
    "common_words = word_counts.most_common(10)\n",
    "\n",
    "# Separate words and counts into two separate tuples\n",
    "words, counts = zip(*common_words)\n",
    "\n",
    "# Convert to DataFrame\n",
    "common_words_df = pd.DataFrame(common_words, columns=['word', 'count'])\n",
    "\n",
    "fig = px.bar(common_words_df, x='word', y='count', title='Top 10 Most Frequently Used Words in Job Descriptions')\n",
    "fig.show()"
   ]
  },
  {
   "cell_type": "markdown",
   "id": "efd0e9ed-ba9b-4049-80bd-9c75ef0c1d56",
   "metadata": {},
   "source": [
    "# Correlation between Ratings and Salaries"
   ]
  },
  {
   "cell_type": "code",
   "execution_count": 8,
   "id": "c1db4b86-e99c-4273-b877-6a3931d4b3b7",
   "metadata": {},
   "outputs": [
    {
     "data": {
      "text/html": [
       "<iframe\n",
       "    scrolling=\"no\"\n",
       "    width=\"100%\"\n",
       "    height=\"545px\"\n",
       "    src=\"iframe_figures/figure_8.html\"\n",
       "    frameborder=\"0\"\n",
       "    allowfullscreen\n",
       "></iframe>\n"
      ]
     },
     "metadata": {},
     "output_type": "display_data"
    }
   ],
   "source": [
    "fig = px.scatter(df, x='Rating', y='Salary Estimate', title='Correlation between Ratings and Salaries')\n",
    "fig.show()"
   ]
  },
  {
   "cell_type": "markdown",
   "id": "81ae3b3f-807b-421c-a928-b1c81b19202a",
   "metadata": {},
   "source": [
    "# Correlation between Employee Number and Salaries"
   ]
  },
  {
   "cell_type": "code",
   "execution_count": 9,
   "id": "a4289b86-8365-4ae0-9b86-55035f8ceb07",
   "metadata": {},
   "outputs": [
    {
     "data": {
      "text/html": [
       "<iframe\n",
       "    scrolling=\"no\"\n",
       "    width=\"100%\"\n",
       "    height=\"545px\"\n",
       "    src=\"iframe_figures/figure_9.html\"\n",
       "    frameborder=\"0\"\n",
       "    allowfullscreen\n",
       "></iframe>\n"
      ]
     },
     "metadata": {},
     "output_type": "display_data"
    }
   ],
   "source": [
    "# Correlation between Employee Number and Salaries\n",
    "fig = px.scatter(df, x='Size', y='Salary Estimate', title='Correlation between Employee Number and Salaries')\n",
    "fig.show()"
   ]
  },
  {
   "cell_type": "code",
   "execution_count": null,
   "id": "84a96065-5de6-4888-91d3-4cbe412bf969",
   "metadata": {},
   "outputs": [],
   "source": []
  },
  {
   "cell_type": "code",
   "execution_count": null,
   "id": "c9d3d2d9-7bcf-4829-b6ad-3bdf53450afb",
   "metadata": {},
   "outputs": [],
   "source": []
  }
 ],
 "metadata": {
  "kernelspec": {
   "display_name": "Python 3 (ipykernel)",
   "language": "python",
   "name": "python3"
  },
  "language_info": {
   "codemirror_mode": {
    "name": "ipython",
    "version": 3
   },
   "file_extension": ".py",
   "mimetype": "text/x-python",
   "name": "python",
   "nbconvert_exporter": "python",
   "pygments_lexer": "ipython3",
   "version": "3.10.11"
  }
 },
 "nbformat": 4,
 "nbformat_minor": 5
}
