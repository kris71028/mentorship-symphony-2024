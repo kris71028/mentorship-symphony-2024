{
 "cells": [
  {
   "cell_type": "markdown",
   "id": "824204b6-a5ae-4c50-ac3f-ec04801d9dfd",
   "metadata": {},
   "source": [
    "## Import libraries"
   ]
  },
  {
   "cell_type": "code",
   "execution_count": 45,
   "id": "e2b0e2c4-ad59-419e-ba8a-3d3b640ec58d",
   "metadata": {},
   "outputs": [],
   "source": [
    "import pandas as pd\n",
    "import numpy as np\n",
    "from sklearn.model_selection import train_test_split\n",
    "from sklearn.linear_model import LinearRegression\n",
    "from sklearn.tree import DecisionTreeRegressor\n",
    "from sklearn.ensemble import RandomForestRegressor\n",
    "from sklearn.metrics import mean_squared_error, r2_score\n",
    "import matplotlib.pyplot as plt\n",
    "from sklearn.preprocessing import LabelEncoder\n",
    "from sklearn.impute import SimpleImputer\n",
    "import re"
   ]
  },
  {
   "cell_type": "markdown",
   "id": "ec2b5f29-40df-4027-ac55-b478b8db573d",
   "metadata": {},
   "source": [
    "## Load cleaned dataset"
   ]
  },
  {
   "cell_type": "code",
   "execution_count": 46,
   "id": "2dcd5021-e975-47d8-8c35-edabc6cb0fec",
   "metadata": {},
   "outputs": [],
   "source": [
    "df = pd.read_csv('../data/processed/DataScientist_cleaned.csv')"
   ]
  },
  {
   "cell_type": "markdown",
   "id": "17fb9f90-957b-452f-95ae-095d82fc5c2c",
   "metadata": {},
   "source": [
    "## Select and Encode Features"
   ]
  },
  {
   "cell_type": "code",
   "execution_count": 47,
   "id": "e65d5258-70c0-4f30-8e42-1f5659d54b53",
   "metadata": {},
   "outputs": [],
   "source": [
    "# Select relevant features for prediction\n",
    "features = ['Rating', 'Size', 'Founded', 'Type of ownership', 'Industry', 'Sector', 'Revenue', 'Easy Apply']\n",
    "\n",
    "# Handle categorical features by encoding them\n",
    "categorical_features = ['Size', 'Type of ownership', 'Industry', 'Sector', 'Revenue', 'Easy Apply']\n",
    "label_encoders = {}\n",
    "\n",
    "for col in categorical_features:\n",
    "    le = LabelEncoder()\n",
    "    df[col] = le.fit_transform(df[col].astype(str))\n",
    "    label_encoders[col] = le\n"
   ]
  },
  {
   "cell_type": "markdown",
   "id": "b343f993-6bf9-4616-8a5f-027bcdef73d5",
   "metadata": {},
   "source": [
    "## Handle Missing Values"
   ]
  },
  {
   "cell_type": "code",
   "execution_count": 49,
   "id": "cfa92a2e-e361-46c5-af3b-ac4de41d336c",
   "metadata": {},
   "outputs": [],
   "source": [
    "# Impute missing values\n",
    "imputer = SimpleImputer(strategy='mean')  # For numerical columns\n",
    "df['Rating'] = imputer.fit_transform(df[['Rating']])\n",
    "df['Founded'] = imputer.fit_transform(df[['Founded']])\n",
    "\n",
    "# For categorical columns, use the most frequent strategy\n",
    "imputer = SimpleImputer(strategy='most_frequent')\n",
    "for col in categorical_features:\n",
    "    df[col] = imputer.fit_transform(df[[col]])\n"
   ]
  },
  {
   "cell_type": "markdown",
   "id": "0748fa16-6f19-4189-ab29-6ed1771f2077",
   "metadata": {},
   "source": [
    "## Preprocess the Target Variable"
   ]
  },
  {
   "cell_type": "code",
   "execution_count": 50,
   "id": "1b6c6b76-244d-4e95-aa2f-efd564888078",
   "metadata": {},
   "outputs": [],
   "source": [
    "# Extract numeric part of 'Salary Estimate' and convert to float\n",
    "def extract_salary(salary_str):\n",
    "    # Remove non-numeric characters and split on '-'\n",
    "    salary_str = re.sub(r'[^0-9\\-]', '', salary_str)\n",
    "    if '-' in salary_str:\n",
    "        salary_min, salary_max = salary_str.split('-')\n",
    "        return (float(salary_min) + float(salary_max)) / 2  # Average salary\n",
    "    return float(salary_str)\n",
    "\n",
    "df['Salary Estimate'] = df['Salary Estimate'].apply(extract_salary)\n"
   ]
  },
  {
   "cell_type": "markdown",
   "id": "cc058345-aba7-4ecf-95f4-5800d329da50",
   "metadata": {},
   "source": [
    "## Define Features and Target, Split Data"
   ]
  },
  {
   "cell_type": "code",
   "execution_count": 51,
   "id": "fdffbeb5-ab9f-4ed0-a79a-1af637984252",
   "metadata": {},
   "outputs": [],
   "source": [
    "X = df[features]\n",
    "y = df['Salary Estimate']  \n",
    "\n",
    "X_train, X_test, y_train, y_test = train_test_split(X, y, test_size=0.2, random_state=42)\n"
   ]
  },
  {
   "cell_type": "markdown",
   "id": "8c74db6f-a377-4404-b398-c70716faddd2",
   "metadata": {},
   "source": [
    "## Build and Evaluate Linear Regression Model"
   ]
  },
  {
   "cell_type": "code",
   "execution_count": 52,
   "id": "2a955a07-3db9-43e8-8bad-6a94a2cdceca",
   "metadata": {},
   "outputs": [
    {
     "name": "stdout",
     "output_type": "stream",
     "text": [
      "Linear Regression MSE: 1482.9386666090406\n",
      "Linear Regression R2: 0.01580737573243529\n"
     ]
    }
   ],
   "source": [
    "# Linear Regression\n",
    "linear_reg = LinearRegression()\n",
    "linear_reg.fit(X_train, y_train)\n",
    "y_pred_lr = linear_reg.predict(X_test)\n",
    "\n",
    "# Evaluate Linear Regression\n",
    "mse_lr = mean_squared_error(y_test, y_pred_lr)\n",
    "r2_lr = r2_score(y_test, y_pred_lr)\n",
    "print(f'Linear Regression MSE: {mse_lr}')\n",
    "print(f'Linear Regression R2: {r2_lr}')\n"
   ]
  },
  {
   "cell_type": "markdown",
   "id": "8079680d-cb4d-46f8-a6e3-a8bde95bc49b",
   "metadata": {},
   "source": [
    "## Build and Evaluate Decision Tree Regressor"
   ]
  },
  {
   "cell_type": "code",
   "execution_count": 56,
   "id": "daefc64a-66b5-4efb-85c4-24d6ccd88053",
   "metadata": {},
   "outputs": [
    {
     "name": "stdout",
     "output_type": "stream",
     "text": [
      "Decision Tree MSE: 2045.7333282073937\n",
      "Decision Tree R2: -0.357706625483023\n"
     ]
    }
   ],
   "source": [
    "# Decision Tree Regressor\n",
    "tree_reg = DecisionTreeRegressor(random_state=42)\n",
    "tree_reg.fit(X_train, y_train)\n",
    "y_pred_tree = tree_reg.predict(X_test)\n",
    "\n",
    "# Evaluate Decision Tree\n",
    "mse_tree = mean_squared_error(y_test, y_pred_tree)\n",
    "r2_tree = r2_score(y_test, y_pred_tree)\n",
    "print(f'Decision Tree MSE: {mse_tree}')\n",
    "print(f'Decision Tree R2: {r2_tree}')\n"
   ]
  },
  {
   "cell_type": "markdown",
   "id": "52f4b92d-fd9f-46dc-b3cb-72ce8b88d1f6",
   "metadata": {},
   "source": [
    "## Build and Evaluate Random Forest Regressor"
   ]
  },
  {
   "cell_type": "code",
   "execution_count": 57,
   "id": "d47b4fb6-eb39-488a-becc-4bb92f160c32",
   "metadata": {},
   "outputs": [
    {
     "name": "stdout",
     "output_type": "stream",
     "text": [
      "Random Forest MSE: 1502.5785139232196\n",
      "Random Forest R2: 0.0027728562991023997\n"
     ]
    }
   ],
   "source": [
    "# Random Forest Regressor\n",
    "forest_reg = RandomForestRegressor(random_state=42)\n",
    "forest_reg.fit(X_train, y_train)\n",
    "y_pred_forest = forest_reg.predict(X_test)\n",
    "\n",
    "# Evaluate Random Forest\n",
    "mse_forest = mean_squared_error(y_test, y_pred_forest)\n",
    "r2_forest = r2_score(y_test, y_pred_forest)\n",
    "print(f'Random Forest MSE: {mse_forest}')\n",
    "print(f'Random Forest R2: {r2_forest}')\n"
   ]
  },
  {
   "cell_type": "markdown",
   "id": "11733d23-1a33-4ae9-9292-cc8ab8a62966",
   "metadata": {},
   "source": [
    "## Visualize Model Performance"
   ]
  },
  {
   "cell_type": "code",
   "execution_count": 58,
   "id": "5f8a30c8-1910-48fb-b311-8545cbd0b705",
   "metadata": {},
   "outputs": [
    {
     "data": {
      "image/png": "[encoded data removed]",
      "text/plain": [
       "<Figure size 1000x500 with 2 Axes>"
      ]
     },
     "metadata": {},
     "output_type": "display_data"
    }
   ],
   "source": [
    "# Visualize Model Performance\n",
    "models = ['Linear Regression', 'Decision Tree', 'Random Forest']\n",
    "mse_values = [mse_lr, mse_tree, mse_forest]\n",
    "r2_values = [r2_lr, r2_tree, r2_forest]\n",
    "\n",
    "plt.figure(figsize=(10, 5))\n",
    "\n",
    "plt.subplot(1, 2, 1)\n",
    "plt.bar(models, mse_values, color='skyblue')\n",
    "plt.title('Mean Squared Error (MSE)')\n",
    "plt.ylabel('MSE')\n",
    "\n",
    "plt.subplot(1, 2, 2)\n",
    "plt.bar(models, r2_values, color='salmon')\n",
    "plt.title('R-Squared (R2)')\n",
    "plt.ylabel('R2 Score')\n",
    "\n",
    "plt.tight_layout()\n",
    "plt.show()\n"
   ]
  },
  {
   "cell_type": "code",
   "execution_count": null,
   "id": "5297d10c-13c9-42a6-a6a9-fe8aea63052d",
   "metadata": {},
   "outputs": [],
   "source": []
  }
 ],
 "metadata": {
  "kernelspec": {
   "display_name": "Python 3 (ipykernel)",
   "language": "python",
   "name": "python3"
  },
  "language_info": {
   "codemirror_mode": {
    "name": "ipython",
    "version": 3
   },
   "file_extension": ".py",
   "mimetype": "text/x-python",
   "name": "python",
   "nbconvert_exporter": "python",
   "pygments_lexer": "ipython3",
   "version": "3.10.11"
  }
 },
 "nbformat": 4,
 "nbformat_minor": 5
}
